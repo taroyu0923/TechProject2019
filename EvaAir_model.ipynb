{
 "cells": [
  {
   "cell_type": "code",
   "execution_count": 65,
   "metadata": {},
   "outputs": [],
   "source": [
    "import matplotlib.pyplot as plt\n",
    "import pandas as pd\n",
    "import numpy as np\n",
    "import jieba\n",
    "from jieba import lcut, analyse, Tokenizer\n",
    "from wordcloud import WordCloud, STOPWORDS\n",
    "from gensim.models import word2vec\n",
    "from gensim.models.keyedvectors import KeyedVectors\n",
    "from collections import Counter\n",
    "from datetime import datetime"
   ]
  },
  {
   "cell_type": "code",
   "execution_count": 2,
   "metadata": {},
   "outputs": [],
   "source": [
    "def Openfile(path):\n",
    "    f = open(path, \"r\", encoding=\"utf-8\")\n",
    "    result = f.read()\n",
    "    f.close()\n",
    "    return result\n",
    "def Openfile_sp(path):\n",
    "    f = open(path, \"r\", encoding=\"utf-8\")\n",
    "    result = f.readlines()\n",
    "    f.close()\n",
    "    return result"
   ]
  },
  {
   "cell_type": "code",
   "execution_count": 47,
   "metadata": {},
   "outputs": [
    {
     "name": "stderr",
     "output_type": "stream",
     "text": [
      "Building prefix dict from D:\\WORK5\\TechProject\\TechProject2019\\dict.txt.big.txt ...\n",
      "Loading model from cache C:\\Users\\ASUS\\AppData\\Local\\Temp\\jieba.u15c153cb84f92c395787873e58f7016c.cache\n",
      "Loading model cost 1.057 seconds.\n",
      "Prefix dict has been built succesfully.\n"
     ]
    }
   ],
   "source": [
    "# open file\n",
    "stopwords_file = 'datafile/stop_words.txt'\n",
    "jieba.set_dictionary('./dict.txt.big.txt')\n",
    "jieba.load_userdict('datafile/user_dict.txt')\n",
    "jieba.analyse.set_stop_words('datafile/stop_words.txt')\n",
    "\n",
    "evaair_file = 'datafile/EvaAir_text.csv'\n",
    "eva_sta = 'datafile/EvaAir_sta.csv'\n",
    "df = pd.read_csv(evaair_file)"
   ]
  },
  {
   "cell_type": "code",
   "execution_count": 4,
   "metadata": {},
   "outputs": [],
   "source": [
    "dec = Openfile_sp(stopwords_file)\n",
    "stopwords = set()\n",
    "for i in range(len(dec)):\n",
    "    stopwords.add(dec[i].strip())"
   ]
  },
  {
   "cell_type": "code",
   "execution_count": 5,
   "metadata": {},
   "outputs": [],
   "source": [
    "df1 = df['text'].tolist()\n",
    "for i in range(len(df1)):\n",
    "    if isinstance(df1[i], float):\n",
    "        df1[i] = str(df1[i])\n",
    "evaair_text = []\n",
    "for i in range(len(df1)):\n",
    "    evaair_text.append(df1[i].strip())"
   ]
  },
  {
   "cell_type": "code",
   "execution_count": 43,
   "metadata": {},
   "outputs": [],
   "source": [
    "result = []\n",
    "for i in range(len(evaair_text)):\n",
    "    r = lcut(evaair_text[i], cut_all=False, HMM=False)\n",
    "    result.append(r)\n",
    "    \n",
    "adj_result = []\n",
    "for i in range(len(result)):\n",
    "    par = []\n",
    "    for j in range(len(result[i])):\n",
    "        if len(result[i][j]) > 1:\n",
    "            if result[i][j] not in stopwords:\n",
    "                par.append(result[i][j])\n",
    "    adj_result.append(par)"
   ]
  },
  {
   "cell_type": "code",
   "execution_count": 44,
   "metadata": {},
   "outputs": [],
   "source": [
    "# frequency counter\n",
    "c = Counter()\n",
    "for i in range(len(adj_result)):\n",
    "    for j in adj_result[i]:\n",
    "        if len(j) > 1:\n",
    "            c[j] += 1\n",
    "freq_result = c.most_common(100)\n",
    "\n",
    "df_freq = pd.DataFrame(freq_result)\n",
    "df_freq.to_csv('datafile/evaair_freqkey.csv')"
   ]
  },
  {
   "cell_type": "code",
   "execution_count": 77,
   "metadata": {},
   "outputs": [],
   "source": [
    "E_model = word2vec.Word2Vec(adj_result, size=200, min_count=10)\n",
    "E_model.save(\"model/EvaAir_model.bin\")"
   ]
  },
  {
   "cell_type": "code",
   "execution_count": 101,
   "metadata": {},
   "outputs": [],
   "source": [
    "model = word2vec.Word2Vec.load(\"model/EvaAir_model.bin\")\n",
    "word_vectors = model.wv"
   ]
  },
  {
   "cell_type": "code",
   "execution_count": 102,
   "metadata": {},
   "outputs": [
    {
     "name": "stderr",
     "output_type": "stream",
     "text": [
      "D:\\Program Files\\Anaconda\\lib\\site-packages\\ipykernel_launcher.py:1: DeprecationWarning: Call to deprecated `wv` (Attribute will be removed in 4.0.0, use self instead).\n",
      "  \"\"\"Entry point for launching an IPython kernel.\n"
     ]
    }
   ],
   "source": [
    "res = word_vectors.wv.most_similar('長榮航空', topn = 20)"
   ]
  },
  {
   "cell_type": "code",
   "execution_count": 103,
   "metadata": {},
   "outputs": [
    {
     "data": {
      "text/plain": [
       "[('一同', 0.9990308284759521),\n",
       " ('美好', 0.9988092184066772),\n",
       " ('期許', 0.9987189173698425),\n",
       " ('安全', 0.9986463785171509),\n",
       " ('飛行', 0.9986349940299988),\n",
       " ('體驗', 0.9986276626586914),\n",
       " ('未來', 0.9985326528549194),\n",
       " ('邀請', 0.9984458684921265),\n",
       " ('旅程', 0.998437762260437),\n",
       " ('今天', 0.9982931613922119),\n",
       " ('旅行', 0.9982914924621582),\n",
       " ('影片', 0.9982848763465881),\n",
       " ('設計', 0.9982648491859436),\n",
       " ('姐妹', 0.9981586933135986),\n",
       " ('舒適', 0.9981505870819092),\n",
       " ('加入', 0.9981184005737305),\n",
       " ('各位', 0.9981131553649902),\n",
       " ('世界', 0.9979893565177917),\n",
       " ('機上', 0.9979846477508545),\n",
       " ('希望', 0.997948169708252)]"
      ]
     },
     "execution_count": 103,
     "metadata": {},
     "output_type": "execute_result"
    }
   ],
   "source": [
    "res"
   ]
  },
  {
   "cell_type": "code",
   "execution_count": 8,
   "metadata": {},
   "outputs": [],
   "source": [
    "# test part\n",
    "key_word = 'datafile/evaair_keywords.csv'\n",
    "df = pd.read_csv(key_word)\n",
    "df1 = df['key'].tolist()\n",
    "key = set()\n",
    "for i in range(len(df1)):\n",
    "    key.add(df1[i])\n",
    "    \n",
    "key_result = []\n",
    "for i in range(len(adj_result)):\n",
    "    par = []\n",
    "    for j in range(len(adj_result[i])):\n",
    "        if adj_result[i][j] in key:\n",
    "            par.append(adj_result[i][j])\n",
    "    key_result.append(par)"
   ]
  },
  {
   "cell_type": "code",
   "execution_count": 34,
   "metadata": {},
   "outputs": [
    {
     "data": {
      "text/plain": [
       "[['旅遊', 1.0],\n",
       " ['長榮航空', 0.5849056603773585],\n",
       " ['小潔', 0.48427672955974843],\n",
       " ['http', 0.48427672955974843],\n",
       " ['長榮', 0.3836477987421384],\n",
       " ['機票', 0.29559748427672955],\n",
       " ['活動', 0.2830188679245283],\n",
       " ['EVAAir', 0.24528301886792453],\n",
       " ['旅客', 0.24528301886792453],\n",
       " ['獲得', 0.2389937106918239],\n",
       " ['機會', 0.23270440251572327],\n",
       " ['行程', 0.23270440251572327],\n",
       " ['服務', 0.22641509433962265],\n",
       " ['可以', 0.22012578616352202],\n",
       " ['體驗', 0.2138364779874214],\n",
       " ['分享', 0.20754716981132076],\n",
       " ['即日起', 0.20125786163522014],\n",
       " ['機場', 0.18238993710691823],\n",
       " ['旅行', 0.18238993710691823],\n",
       " ['航班', 0.1761006289308176],\n",
       " ['粉絲', 0.16981132075471697],\n",
       " ['全球', 0.16981132075471697],\n",
       " ['出國', 0.16352201257861634],\n",
       " ['搭乘', 0.15723270440251572],\n",
       " ['時間', 0.15723270440251572],\n",
       " ['世界', 0.15723270440251572],\n",
       " ['優惠', 0.1509433962264151],\n",
       " ['出發', 0.1509433962264151],\n",
       " ['台北', 0.1509433962264151],\n",
       " ['2016', 0.1509433962264151],\n",
       " ['期間', 0.1509433962264151],\n",
       " ['資訊', 0.1509433962264151],\n",
       " ['最佳', 0.1509433962264151],\n",
       " ['EVA', 0.14465408805031446],\n",
       " ['桃園', 0.13836477987421383],\n",
       " ['2015', 0.13836477987421383],\n",
       " ['留言', 0.13836477987421383],\n",
       " ['朋友', 0.1320754716981132],\n",
       " ['訊息', 0.12578616352201258],\n",
       " ['土耳其', 0.12578616352201258],\n",
       " ['班機', 0.11949685534591195],\n",
       " ['國際', 0.11949685534591195],\n",
       " ['航空', 0.11949685534591195],\n",
       " ['前往', 0.11949685534591195],\n",
       " ['機上', 0.1069182389937107],\n",
       " ['Hello', 0.1069182389937107],\n",
       " ['2017', 0.1069182389937107],\n",
       " ['提供', 0.1069182389937107],\n",
       " ['詳細', 0.1069182389937107],\n",
       " ['EVAAIR', 0.10062893081761007],\n",
       " ['日本', 0.10062893081761007]]"
      ]
     },
     "execution_count": 34,
     "metadata": {},
     "output_type": "execute_result"
    }
   ],
   "source": [
    "# key association \n",
    "\n",
    "key_a = '旅遊'\n",
    "key_b = df1\n",
    "instances = 1665\n",
    "assoc_result = []\n",
    "for j in range(len(key_b)):\n",
    "    counter = 0\n",
    "    r_counter = 0\n",
    "    out_put = []\n",
    "    for i1 in range(len(key_result)):\n",
    "        if key_a in key_result[i1]:\n",
    "            r_counter += 1\n",
    "            continue\n",
    "    for i2 in range(len(key_result)):\n",
    "        if ((key_result[i2].count(key_a) > 0) and (key_result[i2].count(key_b[j]) > 0)):\n",
    "            counter += 1\n",
    "    result = counter / r_counter\n",
    "    out_put.append(key_b[j])\n",
    "    out_put.append(result)\n",
    "    assoc_result.append(out_put)\n",
    "\n",
    "assoc_result_adj = []\n",
    "for i in range(len(assoc_result)):\n",
    "    for j in range(len(assoc_result[i])):\n",
    "        if assoc_result[i][1] >= 0.1:\n",
    "            assoc_result_adj.append(assoc_result[i])\n",
    "            break\n",
    "\n",
    "new_assoc_result = sorted(assoc_result_adj, key=lambda I:I[1], reverse=True)\n",
    "new_assoc_result"
   ]
  },
  {
   "cell_type": "code",
   "execution_count": 9,
   "metadata": {},
   "outputs": [],
   "source": [
    "E_test_model = word2vec.Word2Vec(key_result, size=300, min_count=10)\n",
    "E_test_model.save(\"model/Evaair_key_model.bin\")"
   ]
  },
  {
   "cell_type": "code",
   "execution_count": 10,
   "metadata": {},
   "outputs": [],
   "source": [
    "key_model = word2vec.Word2Vec.load(\"model/Evaair_key_model.bin\")\n",
    "word_vectors = key_model.wv"
   ]
  },
  {
   "cell_type": "code",
   "execution_count": 11,
   "metadata": {},
   "outputs": [
    {
     "name": "stderr",
     "output_type": "stream",
     "text": [
      "D:\\Program Files\\Anaconda\\lib\\site-packages\\ipykernel_launcher.py:1: DeprecationWarning: Call to deprecated `wv` (Attribute will be removed in 4.0.0, use self instead).\n",
      "  \"\"\"Entry point for launching an IPython kernel.\n"
     ]
    }
   ],
   "source": [
    "res = word_vectors.wv.most_similar('長榮航空', topn = 30)"
   ]
  },
  {
   "cell_type": "code",
   "execution_count": 12,
   "metadata": {},
   "outputs": [
    {
     "data": {
      "text/plain": [
       "[('透過', 0.9992537498474121),\n",
       " ('感謝', 0.9991846084594727),\n",
       " ('邀請', 0.9989438056945801),\n",
       " ('旅程', 0.9989300966262817),\n",
       " ('舒適', 0.9988234043121338),\n",
       " ('飛行', 0.9987283945083618),\n",
       " ('夢想', 0.9985811710357666),\n",
       " ('體驗', 0.998435378074646),\n",
       " ('歡迎', 0.9984322190284729),\n",
       " ('影片', 0.9982989430427551),\n",
       " ('EVAAir', 0.9982054233551025),\n",
       " ('美麗', 0.9982041716575623),\n",
       " ('未來', 0.998146653175354),\n",
       " ('開始', 0.9981433749198914),\n",
       " ('提供', 0.9981133341789246),\n",
       " ('世界', 0.9980989694595337),\n",
       " ('特別', 0.9977622628211975),\n",
       " ('歡樂', 0.9976341724395752),\n",
       " ('準備', 0.9976314902305603),\n",
       " ('即將', 0.9975811243057251),\n",
       " ('這個', 0.9973492622375488),\n",
       " ('777', 0.9973303079605103),\n",
       " ('可以', 0.9973263740539551),\n",
       " ('設計', 0.9972262978553772),\n",
       " ('旅行', 0.9972051382064819),\n",
       " ('詳情', 0.9971486330032349),\n",
       " ('旅遊', 0.9970923662185669),\n",
       " ('小潔', 0.9968395233154297),\n",
       " ('驚喜', 0.99676513671875),\n",
       " ('美國', 0.9967626929283142)]"
      ]
     },
     "execution_count": 12,
     "metadata": {},
     "output_type": "execute_result"
    }
   ],
   "source": [
    "res"
   ]
  },
  {
   "cell_type": "code",
   "execution_count": 37,
   "metadata": {},
   "outputs": [],
   "source": [
    "# text analysis\n",
    "product = set()\n",
    "price = set()\n",
    "place = set()\n",
    "depart = set()\n",
    "company = set()\n",
    "question = set()\n",
    "prize = set()\n",
    "\n",
    "\n",
    "product_key = ['航班', '航線', '班機', '飛航', '服務', '機上', 'Kitty', '搭乘', '彩繪機', \n",
    "               '體驗', '787', '經濟艙']\n",
    "price_key = ['TWD', '優惠']\n",
    "place_key = ['美國', '東京', '日本', '沖繩', '香港']\n",
    "depart_key = ['台北', '高雄']\n",
    "prize_key = ['免費', '機會', '獲得', '得獎', '得獎者', '抽獎', '好康', '參加']\n",
    "question_key = ['?', '？']\n",
    "\n",
    "\n",
    "for i in range(len(product_key)):\n",
    "    product.add(product_key[i])\n",
    "for i in range(len(price_key)):\n",
    "    price.add(price_key[i])\n",
    "for i in range(len(place_key)):\n",
    "    place.add(place_key[i])\n",
    "for i in range(len(depart_key)):\n",
    "    depart.add(depart_key[i])\n",
    "for i in range(len(question_key)):\n",
    "    question.add(question_key[i])\n",
    "for i in range(len(prize_key)):\n",
    "    prize.add(prize_key[i])"
   ]
  },
  {
   "cell_type": "code",
   "execution_count": 46,
   "metadata": {},
   "outputs": [
    {
     "data": {
      "text/plain": [
       "0.2816816816816817"
      ]
     },
     "execution_count": 46,
     "metadata": {},
     "output_type": "execute_result"
    }
   ],
   "source": [
    "counter = 0\n",
    "for i in range(len(key_result)):\n",
    "    for j in range(len(key_result[i])):\n",
    "        if key_result[i][j] in prize:\n",
    "            counter += 1\n",
    "            break\n",
    "text_ana_res = counter / instances\n",
    "text_ana_res\n"
   ]
  },
  {
   "cell_type": "code",
   "execution_count": 45,
   "metadata": {},
   "outputs": [
    {
     "data": {
      "text/plain": [
       "0.33153153153153153"
      ]
     },
     "execution_count": 45,
     "metadata": {},
     "output_type": "execute_result"
    }
   ],
   "source": [
    "counter1 = 0\n",
    "for i in range(len(result)):\n",
    "    for j in range(len(result[i])):\n",
    "        if result[i][j] in question:\n",
    "            counter1 += 1\n",
    "            break\n",
    "text_ana_res1 = counter1 / instances\n",
    "text_ana_res1"
   ]
  },
  {
   "cell_type": "code",
   "execution_count": 88,
   "metadata": {},
   "outputs": [],
   "source": [
    "output_res = []\n",
    "text_df = pd.read_csv('datafile/EvaAir_text.csv')\n",
    "ID = text_df['no'].tolist()\n",
    "for i in range(len(result)):\n",
    "    n_ID = ID[i]\n",
    "    product_count = 0\n",
    "    price_count = 0\n",
    "    place_count = 0\n",
    "    depart_count = 0\n",
    "    prize_count = 0\n",
    "    question_count = 0\n",
    "    for j in range(len(result[i])):\n",
    "        if result[i][j] in product:\n",
    "            product_count += 1\n",
    "            continue\n",
    "        if result[i][j] in price:\n",
    "            price_count += 1\n",
    "            continue\n",
    "        if result[i][j] in place:\n",
    "            place_count += 1\n",
    "            continue\n",
    "        if result[i][j] in depart:\n",
    "            depart_count += 1\n",
    "            continue\n",
    "        if result[i][j] in prize:\n",
    "            prize_count += 1\n",
    "            continue\n",
    "        if result[i][j] in question:\n",
    "            question_count += 1\n",
    "            continue\n",
    "        process = [n_ID, product_count, price_count, place_count, \n",
    "                   depart_count, prize_count, question_count]\n",
    "    output_res.append(process)\n"
   ]
  },
  {
   "cell_type": "code",
   "execution_count": 90,
   "metadata": {},
   "outputs": [],
   "source": [
    "res_df = pd.DataFrame(output_res)\n",
    "res_df.to_csv('./Eva_data.csv')"
   ]
  },
  {
   "cell_type": "code",
   "execution_count": null,
   "metadata": {},
   "outputs": [],
   "source": []
  },
  {
   "cell_type": "code",
   "execution_count": null,
   "metadata": {},
   "outputs": [],
   "source": []
  }
 ],
 "metadata": {
  "kernelspec": {
   "display_name": "Python 3",
   "language": "python",
   "name": "python3"
  },
  "language_info": {
   "codemirror_mode": {
    "name": "ipython",
    "version": 3
   },
   "file_extension": ".py",
   "mimetype": "text/x-python",
   "name": "python",
   "nbconvert_exporter": "python",
   "pygments_lexer": "ipython3",
   "version": "3.7.1"
  }
 },
 "nbformat": 4,
 "nbformat_minor": 2
}
